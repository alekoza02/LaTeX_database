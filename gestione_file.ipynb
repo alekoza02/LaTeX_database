{
 "cells": [
  {
   "cell_type": "markdown",
   "metadata": {},
   "source": [
    "- Generazione cartella di lavoro"
   ]
  },
  {
   "cell_type": "code",
   "execution_count": null,
   "metadata": {},
   "outputs": [],
   "source": [
    "import os\n",
    "\n",
    "RED = '\\033[91m'\n",
    "GREEN = '\\033[92m'\n",
    "RESET = '\\033[0m'\n",
    "\n",
    "def template(proj_name):\n",
    "\n",
    "    directory_path = \"progetti/\"\n",
    "\n",
    "    # Create folders\n",
    "    folder_path = os.path.join(directory_path, proj_name)\n",
    "    if not os.path.exists(folder_path):\n",
    "        os.makedirs(folder_path)\n",
    "    else:\n",
    "        print(f\"{RED} Attenzione, esiste già un progetto con quel nome!{RESET}\")\n",
    "        return \n",
    "\n",
    "    # Define file names\n",
    "    folders = [\"images\", \"data\", \"latex_file\", \"latex_subfile\"]\n",
    "\n",
    "    # Create files\n",
    "    for folder in folders:\n",
    "        folder_path = os.path.join(directory_path, proj_name, folder)\n",
    "        if not os.path.exists(folder_path):\n",
    "            os.makedirs(folder_path)\n",
    "        \n",
    "        if folder == \"latex_file\":\n",
    "            with open(os.path.join(folder_path, \"main.tex\"), \"w\") as file:\n",
    "                file.write(\"\\\\documentclass{article}\\n\\\\usepackage{geometry}\\n\\\\usepackage{amssymb}\\n\\\\usepackage{xcolor}\\n\\\\usepackage{booktabs}\\n\\\\usepackage{graphicx}\\n\\\\usepackage{float}\\n\\\\usepackage{caption}\\n\\\\usepackage[italian]{babel}\\n\\n\\\\setcounter{page}{0}\\n\\n% \\\\geometry{\\n%\\tleft=.7in,  \\n%\\tright=.7in, \\n%\\ttop=.7in,   \\n%\\tbottom=.7in,\\n% }\\n\\n\\n\\\\title{Titolo}\\n\\\\author{Alessio Cimma}\\n\\n\\\\begin{document}\\n\\n\\\\maketitle\\n\\n\\\\begin{center}\\n\\t\\\\includegraphics*[width=0.22\\\\linewidth]{../images/logo.png}\\n\\\\end{center}\\n\\n\\\\tableofcontents\\n\\\\newpage\\n\\n\\n\\n\\\\end{document}\")\n",
    "\n",
    "    import shutil\n",
    "    source_file = 'logo.png'\n",
    "\n",
    "    # Specify the destination path where you want to copy the image\n",
    "    destination_file = os.path.join(directory_path, proj_name, \"images\")\n",
    "\n",
    "    # Copy the image file\n",
    "    shutil.copy(source_file, destination_file)\n",
    "\n",
    "\n",
    "    print(f\"{GREEN} Folders and files created successfully. Project: {proj_name}.{RESET}\")\n",
    "\n",
    "# Name of the project\n",
    "template(input(\"Project name: \"))"
   ]
  },
  {
   "cell_type": "markdown",
   "metadata": {},
   "source": [
    "- Downsampling immagini"
   ]
  },
  {
   "cell_type": "code",
   "execution_count": null,
   "metadata": {},
   "outputs": [],
   "source": [
    "from PIL import Image\n",
    "import os\n",
    "\n",
    "def resize_image(input_folder, output_folder, factor, convert_to_grayscale=False, use_palette=False):\n",
    "    \n",
    "    print(\"Starting...\")\n",
    "\n",
    "    for index, filename in enumerate(os.listdir(input_folder)):\n",
    "\n",
    "        input_image_path = os.path.join(input_folder, filename)\n",
    "        output_image_path = os.path.join(output_folder, filename)\n",
    "\n",
    "        # Open the original image\n",
    "        image = Image.open(input_image_path)\n",
    "\n",
    "        # Get original dimensions\n",
    "        original_width, original_height = image.size\n",
    "\n",
    "        # Calculate the new height while maintaining the aspect ratio\n",
    "        new_width, new_height = int(original_width / factor), int(original_height / factor)\n",
    "\n",
    "        # Resize the image while maintaining proportions\n",
    "        resized_image = image.resize((new_width, new_height), Image.Resampling.LANCZOS)\n",
    "\n",
    "        # Optionally convert to grayscale\n",
    "        if convert_to_grayscale:\n",
    "            resized_image = resized_image.convert('L')  # 'L' mode is grayscale\n",
    "\n",
    "        # Optionally convert to 8-bit palette (indexed colors)\n",
    "        if use_palette:\n",
    "            resized_image = resized_image.convert('P', palette=Image.ADAPTIVE)\n",
    "\n",
    "        # Save the resized image with lower quality if needed\n",
    "        resized_image.save(output_image_path, quality=85)\n",
    "\n",
    "        print(f\"{f'Completed file: {filename:^30}'} -> {index} / {len(os.listdir(input_folder))}\")\n",
    "\n",
    "    print(\"Finished!\")\n",
    "\n",
    "\n",
    "# Example usage\n",
    "input_image_path = r\"C:\\Users\\aless\\OneDrive\\TESI\\LaTeX_tesi\\immagini_high\"  # Path to the original large image\n",
    "output_image_path = r\"C:\\Users\\aless\\OneDrive\\TESI\\LaTeX_tesi\\immagini_low\"  # Path to save the resized image\n",
    "factor = 5 # Desired width (dynamically computes height)\n",
    "\n",
    "# You can toggle grayscale and palette conversion as needed\n",
    "resize_image(input_image_path, output_image_path, factor, convert_to_grayscale=False, use_palette=True)\n"
   ]
  },
  {
   "cell_type": "markdown",
   "metadata": {},
   "source": [
    "- Color ramp extractor matplotlib"
   ]
  },
  {
   "cell_type": "code",
   "execution_count": null,
   "metadata": {},
   "outputs": [],
   "source": [
    "import matplotlib.pyplot as plt\n",
    "import numpy as np\n",
    "\n",
    "# Select a Matplotlib colormap, e.g., 'viridis'\n",
    "cmap = plt.get_cmap('afmhot')\n",
    "\n",
    "# Number of color points to extract (the higher, the more detailed the gradient)\n",
    "num_colors = 31\n",
    "\n",
    "# Generate equally spaced values in the range [0, 1] and map them to colors\n",
    "colors = [cmap(i) for i in np.linspace(0, 1, num_colors)]\n",
    "\n",
    "print(colors)\n",
    "\n",
    "'''\n",
    "'Accent', 'Accent_r', 'Blues', 'Blues_r', 'BrBG', 'BrBG_r', 'BuGn', 'BuGn_r', 'BuPu', 'BuPu_r', 'CMRmap', 'CMRmap_r', 'Dark2', 'Dark2_r', 'GnBu', 'GnBu_r', 'Grays', 'Greens', 'Greens_r', 'Greys', 'Greys_r', 'OrRd', 'OrRd_r', 'Oranges', 'Oranges_r', 'PRGn', 'PRGn_r', 'Paired', 'Paired_r', 'Pastel1', 'Pastel1_r', 'Pastel2', 'Pastel2_r', 'PiYG', 'PiYG_r', 'PuBu', 'PuBuGn', 'PuBuGn_r', 'PuBu_r', 'PuOr', 'PuOr_r', 'PuRd', 'PuRd_r', 'Purples', 'Purples_r', 'RdBu', 'RdBu_r', 'RdGy', 'RdGy_r', 'RdPu', 'RdPu_r', 'RdYlBu', 'RdYlBu_r', 'RdYlGn', 'RdYlGn_r', 'Reds', 'Reds_r', 'Set1', 'Set1_r', 'Set2', 'Set2_r', 'Set3', 'Set3_r', 'Spectral', 'Spectral_r', 'Wistia', 'Wistia_r', 'YlGn', 'YlGnBu', 'YlGnBu_r', 'YlGn_r', 'YlOrBr', 'YlOrBr_r', 'YlOrRd', 'YlOrRd_r', 'afmhot', 'afmhot_r', 'autumn', 'autumn_r', 'binary', 'binary_r', 'bone', 'bone_r', 'brg', 'brg_r', 'bwr', 'bwr_r', 'cividis', 'cividis_r', 'cool', 'cool_r', 'coolwarm', 'coolwarm_r', 'copper', 'copper_r', 'cubehelix', 'cubehelix_r', 'flag', 'flag_r', 'gist_earth', 'gist_earth_r', 'gist_gray', 'gist_gray_r', 'gist_grey', 'gist_heat', 'gist_heat_r', 'gist_ncar', 'gist_ncar_r', 'gist_rainbow', 'gist_rainbow_r', 'gist_stern', 'gist_stern_r', 'gist_yarg', 'gist_yarg_r', 'gist_yerg', 'gnuplot', 'gnuplot2', 'gnuplot2_r', 'gnuplot_r', 'gray', 'gray_r', 'grey', 'hot', 'hot_r', 'hsv', 'hsv_r', 'inferno', 'inferno_r', 'jet', 'jet_r', 'magma', 'magma_r', 'nipy_spectral', 'nipy_spectral_r', 'ocean', 'ocean_r', 'pink', 'pink_r', 'plasma', 'plasma_r', 'prism', 'prism_r', 'rainbow', 'rainbow_r', 'seismic', 'seismic_r', 'spring', 'spring_r', 'summer', 'summer_r', 'tab10', 'tab10_r', 'tab20', 'tab20_r', 'tab20b', 'tab20b_r', 'tab20c', 'tab20c_r', 'terrain', 'terrain_r', 'turbo', 'turbo_r', 'twilight', 'twilight_r', 'twilight_shifted', 'twilight_shifted_r', 'viridis', 'viridis_r', 'winter', 'winter_r'\n",
    "'''"
   ]
  }
 ],
 "metadata": {
  "kernelspec": {
   "display_name": "Python 3",
   "language": "python",
   "name": "python3"
  },
  "language_info": {
   "codemirror_mode": {
    "name": "ipython",
    "version": 3
   },
   "file_extension": ".py",
   "mimetype": "text/x-python",
   "name": "python",
   "nbconvert_exporter": "python",
   "pygments_lexer": "ipython3",
   "version": "3.12.4"
  }
 },
 "nbformat": 4,
 "nbformat_minor": 2
}
